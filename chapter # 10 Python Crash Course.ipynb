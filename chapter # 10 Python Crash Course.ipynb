{
 "cells": [
  {
   "cell_type": "code",
   "execution_count": 9,
   "metadata": {},
   "outputs": [
    {
     "name": "stdout",
     "output_type": "stream",
     "text": [
      "3.1415926535\n",
      "  8979323846\n",
      "  2643383279\n"
     ]
    }
   ],
   "source": [
    "with open(\"pi_digit.txt\") as file_object:\n",
    "    contents = file_object.read()\n",
    "    print(contents)"
   ]
  },
  {
   "cell_type": "code",
   "execution_count": 11,
   "metadata": {},
   "outputs": [
    {
     "name": "stdout",
     "output_type": "stream",
     "text": [
      "3.1415926535\n",
      "  8979323846\n",
      "  2643383279\n"
     ]
    }
   ],
   "source": [
    "\"\"\"The only difference between this output and the original file is the\n",
    "extra blank line at the end of the output. The blank line appears because\n",
    "read() returns an empty string when it reaches the end of the file; this empty\n",
    "string shows up as a blank line. If you want to remove the extra blank line,\n",
    "you can use rstrip() in the print statement:\"\"\"\n",
    "with open(\"pi_digit.txt\") as file:\n",
    "    content = file.read()\n",
    "    print(content.rstrip()) "
   ]
  },
  {
   "cell_type": "code",
   "execution_count": 14,
   "metadata": {},
   "outputs": [
    {
     "name": "stdout",
     "output_type": "stream",
     "text": [
      "https://www.sanfoundry.com/python-questions-answers-variable-names/\n"
     ]
    }
   ],
   "source": [
    "# FILE PATH\n",
    "with open (\"D:/python test preparation/1000 practice mcq question an ans link.txt\") as file:\n",
    "    con = file.read()\n",
    "    print(con)"
   ]
  },
  {
   "cell_type": "code",
   "execution_count": 15,
   "metadata": {},
   "outputs": [
    {
     "name": "stdout",
     "output_type": "stream",
     "text": [
      "3.1415926535\n",
      "\n",
      "  8979323846\n",
      "\n",
      "  2643383279\n"
     ]
    }
   ],
   "source": [
    "# Reading Line by Line\n",
    "path = \"pi_digit.txt\"\n",
    "with open(path) as f1:\n",
    "    for line in f1:\n",
    "        print(line)"
   ]
  },
  {
   "cell_type": "code",
   "execution_count": 16,
   "metadata": {},
   "outputs": [
    {
     "name": "stdout",
     "output_type": "stream",
     "text": [
      "3.1415926535\n",
      "  8979323846\n",
      "  2643383279\n"
     ]
    }
   ],
   "source": [
    "# Reading Line by Line with out space\n",
    "path = \"pi_digit.txt\"\n",
    "with open(path) as f1:\n",
    "    for line in f1:\n",
    "        print(line.rstrip())"
   ]
  },
  {
   "cell_type": "code",
   "execution_count": 17,
   "metadata": {},
   "outputs": [
    {
     "name": "stdout",
     "output_type": "stream",
     "text": [
      "3\n",
      ".\n",
      "1\n",
      "4\n",
      "1\n",
      "5\n",
      "9\n",
      "2\n",
      "6\n",
      "5\n",
      "3\n",
      "5\n",
      "\n"
     ]
    }
   ],
   "source": [
    "# Making a List of Lines from a File\n",
    "\"\"\"When you use with, the file object returned by open() is only available inside\n",
    "the with block that contains it. If you want to retain access to a file’s contents\n",
    "outside the with block, you can store the file’s lines in a list inside the block\n",
    "and then work with that list. You can process parts of the file immediately\n",
    "and postpone some processing for later in the program.\"\"\"\n",
    "path = \"pi_digit.txt\"\n",
    "with open(path) as f1:\n",
    "    lines = f1.readline()\n",
    "    \n",
    "for line in lines:\n",
    "    print(line.rstrip())\n"
   ]
  },
  {
   "cell_type": "code",
   "execution_count": 19,
   "metadata": {},
   "outputs": [
    {
     "name": "stdout",
     "output_type": "stream",
     "text": [
      "3.1415926535  8979323846  2643383279\n",
      "36\n"
     ]
    }
   ],
   "source": [
    "path = \"pi_digit.txt\"\n",
    "with open(path) as f1:\n",
    "    lines = f1.readlines()\n",
    "    \n",
    "pi_str = ''\n",
    "for line in lines:\n",
    "    pi_str+= line.rstrip()\n",
    "    \n",
    "print(pi_str)\n",
    "print(len(pi_str))"
   ]
  },
  {
   "cell_type": "code",
   "execution_count": 21,
   "metadata": {},
   "outputs": [
    {
     "name": "stdout",
     "output_type": "stream",
     "text": [
      "3.141592653589793238462643383279\n",
      "32\n"
     ]
    }
   ],
   "source": [
    "path = \"pi_digit.txt\"\n",
    "with open(path) as f1:\n",
    "    lines = f1.readlines()\n",
    "    \n",
    "pi_str = ''\n",
    "for line in lines:\n",
    "    pi_str+= line.strip() \n",
    "#     pi_str+= line.rstrip() # removing the left space we used strip insted of rstrip\n",
    "    \n",
    "print(pi_str)\n",
    "print(len(pi_str))"
   ]
  },
  {
   "cell_type": "raw",
   "metadata": {},
   "source": [
    "Note When Python reads from a text file, it interprets all text in the file as a string. If you\n",
    "read in a number and want to work with that value in a numerical context, you’ll\n",
    "have to convert it to an integer using the int() function or convert it to a float using\n",
    "the float() function."
   ]
  },
  {
   "cell_type": "markdown",
   "metadata": {},
   "source": [
    "# Large Files: One Million Digits"
   ]
  },
  {
   "cell_type": "code",
   "execution_count": 22,
   "metadata": {},
   "outputs": [
    {
     "name": "stdout",
     "output_type": "stream",
     "text": [
      "3.141592653589793238462643383279...\n",
      "32\n"
     ]
    }
   ],
   "source": [
    "filename = \"pi_million_digit.txt\"\n",
    "with open(filename)as f2:\n",
    "    line = f2.readlines()\n",
    "pi_str = \"\"\n",
    "for line in lines:\n",
    "    pi_str += line.strip()\n",
    "print(pi_str[:52]+\"...\")\n",
    "print(len(pi_str))"
   ]
  },
  {
   "cell_type": "code",
   "execution_count": 29,
   "metadata": {},
   "outputs": [
    {
     "name": "stdout",
     "output_type": "stream",
     "text": [
      "  2643383279\n",
      "birthday mmddyyyy26\n",
      "your birthday is present in the string\n",
      "  2643383279\n"
     ]
    }
   ],
   "source": [
    "# Is Your Birthday Contained in Pi?\n",
    "filename = \"pi_million_digit.txt\"\n",
    "with open(filename)as f2:\n",
    "    line = f2.readlines()\n",
    "pi_str = \"\"\n",
    "for line in lines:\n",
    "    pi_str += line.strip()\n",
    "print(line)\n",
    "birthday = input(\"birthday mmddyyyy\")\n",
    "if birthday in pi_str:\n",
    "    print(\"your birthday is present in the string\")\n",
    "else:\n",
    "    print(\"ypur birthday is not present in string\")\n",
    "print(line)"
   ]
  },
  {
   "cell_type": "code",
   "execution_count": 37,
   "metadata": {},
   "outputs": [
    {
     "name": "stdout",
     "output_type": "stream",
     "text": [
      "my name is khan and i am not a terriorist\n",
      "my name is khan and i am not a terriorist\n",
      "my name is khan and i am not a terriorist\n",
      "\n"
     ]
    }
   ],
   "source": [
    "# 10.1 Learning Python\n",
    "with open(\"learning_python.txt\",'w') as w:\n",
    "    w.write(\"my name is khan and i am not a terriorist\")\n",
    "with open(\"learning_python.txt\") as f:\n",
    "    content = f.read()\n",
    "    print((content+ \"\\n\") * 3)\n"
   ]
  },
  {
   "cell_type": "code",
   "execution_count": 42,
   "metadata": {},
   "outputs": [
    {
     "name": "stdout",
     "output_type": "stream",
     "text": [
      "my name is khan and i am not a terriorist\n"
     ]
    }
   ],
   "source": [
    "with open(\"learning_python.txt\") as f:\n",
    "    content = f.readlines()\n",
    "for line in content:\n",
    "    print(line)"
   ]
  },
  {
   "cell_type": "code",
   "execution_count": 47,
   "metadata": {},
   "outputs": [],
   "source": [
    "with open(\"programing.txt\",'w') as w:\n",
    "    w.write(\"my name is khan and i am not a terriorist\\n\")\n",
    "    w.write(\"i love programming\")"
   ]
  },
  {
   "cell_type": "code",
   "execution_count": 49,
   "metadata": {},
   "outputs": [
    {
     "name": "stdout",
     "output_type": "stream",
     "text": [
      "my name is khan and i am not a terriorist\n",
      "i love programming\n"
     ]
    }
   ],
   "source": [
    "with open(\"programing.txt\") as f:\n",
    "    content = f.readlines()\n",
    "for line in content:\n",
    "    print(line.rstrip())"
   ]
  },
  {
   "cell_type": "code",
   "execution_count": 51,
   "metadata": {},
   "outputs": [],
   "source": [
    "with open(\"programing.txt\",'a') as a:\n",
    "    a.write(\"good programing\\n\")\n",
    "    a.write(\"bad programing\\n\")"
   ]
  },
  {
   "cell_type": "code",
   "execution_count": 52,
   "metadata": {},
   "outputs": [
    {
     "name": "stdout",
     "output_type": "stream",
     "text": [
      "my name is khan and i am not a terriorist\n",
      "i love programminggood programing\n",
      "bad programing\n"
     ]
    }
   ],
   "source": [
    "with open(\"programing.txt\") as f:\n",
    "    content = f.readlines()\n",
    "for line in content:\n",
    "    print(line.rstrip())"
   ]
  },
  {
   "cell_type": "code",
   "execution_count": 69,
   "metadata": {},
   "outputs": [
    {
     "name": "stdout",
     "output_type": "stream",
     "text": [
      "good programing\n",
      "bad programing\n",
      "good programing\n",
      "bad programing\n",
      "good programing\n",
      "bad programing\n",
      "good programing\n",
      "bad programing\n",
      "good programing\n",
      "bad programing\n",
      "good programing\n",
      "bad programing\n"
     ]
    }
   ],
   "source": [
    "# both read and write\n",
    "with open(\"programing.txt\",'r+') as a:\n",
    "    a.write(\"good programing\\n\")\n",
    "    a.write(\"bad programing\\n\")\n",
    "    c = a.readlines()\n",
    "    for l in c:\n",
    "        print(l.rstrip())\n",
    "    "
   ]
  },
  {
   "cell_type": "markdown",
   "metadata": {},
   "source": [
    "# EXCEPTION HANDLING"
   ]
  },
  {
   "cell_type": "code",
   "execution_count": 70,
   "metadata": {},
   "outputs": [
    {
     "ename": "ZeroDivisionError",
     "evalue": "division by zero",
     "output_type": "error",
     "traceback": [
      "\u001b[1;31m---------------------------------------------------------------------------\u001b[0m",
      "\u001b[1;31mZeroDivisionError\u001b[0m                         Traceback (most recent call last)",
      "\u001b[1;32m<ipython-input-70-fad870a50e27>\u001b[0m in \u001b[0;36m<module>\u001b[1;34m()\u001b[0m\n\u001b[1;32m----> 1\u001b[1;33m \u001b[0mprint\u001b[0m\u001b[1;33m(\u001b[0m\u001b[1;36m5\u001b[0m\u001b[1;33m/\u001b[0m\u001b[1;36m0\u001b[0m\u001b[1;33m)\u001b[0m\u001b[1;33m\u001b[0m\u001b[0m\n\u001b[0m",
      "\u001b[1;31mZeroDivisionError\u001b[0m: division by zero"
     ]
    }
   ],
   "source": [
    "print(5/0)"
   ]
  },
  {
   "cell_type": "code",
   "execution_count": 71,
   "metadata": {},
   "outputs": [
    {
     "name": "stdout",
     "output_type": "stream",
     "text": [
      "you cant divide by zero\n"
     ]
    }
   ],
   "source": [
    "try:\n",
    "    print(5/0)\n",
    "except ZeroDivisionError:\n",
    "    print(\"you cant divide by zero\")"
   ]
  },
  {
   "cell_type": "code",
   "execution_count": 74,
   "metadata": {},
   "outputs": [
    {
     "name": "stdout",
     "output_type": "stream",
     "text": [
      "enter two no for division operation\n",
      "Enter q to Quit\n",
      "enter first number5\n",
      "enter 2nd number0\n"
     ]
    },
    {
     "ename": "ZeroDivisionError",
     "evalue": "division by zero",
     "output_type": "error",
     "traceback": [
      "\u001b[1;31m---------------------------------------------------------------------------\u001b[0m",
      "\u001b[1;31mZeroDivisionError\u001b[0m                         Traceback (most recent call last)",
      "\u001b[1;32m<ipython-input-74-4145a4add615>\u001b[0m in \u001b[0;36m<module>\u001b[1;34m()\u001b[0m\n\u001b[0;32m      8\u001b[0m     \u001b[1;32mif\u001b[0m \u001b[0msecond_num\u001b[0m \u001b[1;33m==\u001b[0m \u001b[1;34m\"q\"\u001b[0m\u001b[1;33m:\u001b[0m\u001b[1;33m\u001b[0m\u001b[0m\n\u001b[0;32m      9\u001b[0m         \u001b[1;32mbreak\u001b[0m\u001b[1;33m\u001b[0m\u001b[0m\n\u001b[1;32m---> 10\u001b[1;33m     \u001b[0manswer\u001b[0m \u001b[1;33m=\u001b[0m \u001b[0mint\u001b[0m\u001b[1;33m(\u001b[0m\u001b[0mfirst_num\u001b[0m\u001b[1;33m)\u001b[0m\u001b[1;33m/\u001b[0m\u001b[0mint\u001b[0m\u001b[1;33m(\u001b[0m\u001b[0msecond_num\u001b[0m\u001b[1;33m)\u001b[0m\u001b[1;33m\u001b[0m\u001b[0m\n\u001b[0m\u001b[0;32m     11\u001b[0m     \u001b[0mprint\u001b[0m\u001b[1;33m(\u001b[0m\u001b[0manswer\u001b[0m\u001b[1;33m)\u001b[0m\u001b[1;33m\u001b[0m\u001b[0m\n",
      "\u001b[1;31mZeroDivisionError\u001b[0m: division by zero"
     ]
    }
   ],
   "source": [
    "print(\"enter two no for division operation\")\n",
    "print(\"Enter q to Quit\")\n",
    "while True:\n",
    "    first_num = input(\"enter first number\")\n",
    "    if first_num == \"q\":\n",
    "        break\n",
    "    second_num = input(\"enter 2nd number\")\n",
    "    if second_num == \"q\":\n",
    "        break\n",
    "    try:\n",
    "        answer = int(first_num)/int(second_num)\n",
    "    \n",
    "    print(answer)"
   ]
  },
  {
   "cell_type": "code",
   "execution_count": 76,
   "metadata": {},
   "outputs": [
    {
     "name": "stdout",
     "output_type": "stream",
     "text": [
      "invalid file name file is not found\n"
     ]
    }
   ],
   "source": [
    "try:\n",
    "    with open(\"tryexcept.txt\") as f:\n",
    "        contenct = f.read()\n",
    "        print(content)\n",
    "except:\n",
    "    print(\"invalid file name file is not found\")"
   ]
  },
  {
   "cell_type": "code",
   "execution_count": null,
   "metadata": {},
   "outputs": [],
   "source": []
  }
 ],
 "metadata": {
  "kernelspec": {
   "display_name": "Python 3",
   "language": "python",
   "name": "python3"
  },
  "language_info": {
   "codemirror_mode": {
    "name": "ipython",
    "version": 3
   },
   "file_extension": ".py",
   "mimetype": "text/x-python",
   "name": "python",
   "nbconvert_exporter": "python",
   "pygments_lexer": "ipython3",
   "version": "3.6.5"
  }
 },
 "nbformat": 4,
 "nbformat_minor": 2
}
